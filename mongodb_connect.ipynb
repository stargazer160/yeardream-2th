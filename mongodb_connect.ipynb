{
  "nbformat": 4,
  "nbformat_minor": 0,
  "metadata": {
    "colab": {
      "name": "mongodb-connect.ipynb",
      "provenance": [],
      "collapsed_sections": []
    },
    "kernelspec": {
      "name": "python3",
      "display_name": "Python 3"
    },
    "language_info": {
      "name": "python"
    }
  },
  "cells": [
    {
      "cell_type": "code",
      "execution_count": 1,
      "metadata": {
        "id": "LkZU8fRsT7GO"
      },
      "outputs": [],
      "source": [
        "mongo_path = 'mongodb+srv://<username>:<password>@cluster0.kvcs9.mongodb.net/myFirstDatabase?retryWrites=true&w=majority'\n",
        "# Authentication failed"
      ]
    },
    {
      "cell_type": "code",
      "source": [
        "from pymongo import MongoClient # mongoDB 접속을 비롯한 액션을 할 때 사용하는 라이브러리"
      ],
      "metadata": {
        "id": "ODu2Zj0pbNQm"
      },
      "execution_count": 2,
      "outputs": []
    },
    {
      "cell_type": "code",
      "source": [
        "import requests # python file에서 웹 접속이 필요할 때 사용하는 라이브러리"
      ],
      "metadata": {
        "id": "LkG0BOUXb5yA"
      },
      "execution_count": 3,
      "outputs": []
    },
    {
      "cell_type": "code",
      "source": [
        "client = MongoClient(mongo_path)"
      ],
      "metadata": {
        "id": "c73noqUddtpO"
      },
      "execution_count": 4,
      "outputs": []
    },
    {
      "cell_type": "code",
      "source": [
        "#!pip install pymongo[srv] \n",
        "\n",
        "# import error 가 났을 때에는 이 스크립트를 실행하고 [runtime] - [restart runtime] 한 후 재실행\n",
        "# 이 cell은 runtime restart 후 재실행할 필요가 없으니 skip 하셔도 됩니다.\n",
        "# configuration error"
      ],
      "metadata": {
        "colab": {
          "base_uri": "https://localhost:8080/"
        },
        "id": "xXK6NU57fHEq",
        "outputId": "06c0a061-919e-4781-eadd-09567cfaad94"
      },
      "execution_count": 5,
      "outputs": [
        {
          "output_type": "stream",
          "name": "stdout",
          "text": [
            "Requirement already satisfied: pymongo[srv] in /usr/local/lib/python3.7/dist-packages (4.0.2)\n",
            "Collecting dnspython<3.0.0,>=1.16.0\n",
            "  Downloading dnspython-2.2.1-py3-none-any.whl (269 kB)\n",
            "\u001b[?25l\r\u001b[K     |█▏                              | 10 kB 19.2 MB/s eta 0:00:01\r\u001b[K     |██▍                             | 20 kB 15.3 MB/s eta 0:00:01\r\u001b[K     |███▋                            | 30 kB 10.1 MB/s eta 0:00:01\r\u001b[K     |████▉                           | 40 kB 9.1 MB/s eta 0:00:01\r\u001b[K     |██████                          | 51 kB 4.6 MB/s eta 0:00:01\r\u001b[K     |███████▎                        | 61 kB 5.4 MB/s eta 0:00:01\r\u001b[K     |████████▌                       | 71 kB 5.5 MB/s eta 0:00:01\r\u001b[K     |█████████▊                      | 81 kB 5.5 MB/s eta 0:00:01\r\u001b[K     |███████████                     | 92 kB 6.0 MB/s eta 0:00:01\r\u001b[K     |████████████▏                   | 102 kB 5.2 MB/s eta 0:00:01\r\u001b[K     |█████████████▍                  | 112 kB 5.2 MB/s eta 0:00:01\r\u001b[K     |██████████████▋                 | 122 kB 5.2 MB/s eta 0:00:01\r\u001b[K     |███████████████▉                | 133 kB 5.2 MB/s eta 0:00:01\r\u001b[K     |█████████████████               | 143 kB 5.2 MB/s eta 0:00:01\r\u001b[K     |██████████████████▎             | 153 kB 5.2 MB/s eta 0:00:01\r\u001b[K     |███████████████████▌            | 163 kB 5.2 MB/s eta 0:00:01\r\u001b[K     |████████████████████▊           | 174 kB 5.2 MB/s eta 0:00:01\r\u001b[K     |██████████████████████          | 184 kB 5.2 MB/s eta 0:00:01\r\u001b[K     |███████████████████████▏        | 194 kB 5.2 MB/s eta 0:00:01\r\u001b[K     |████████████████████████▍       | 204 kB 5.2 MB/s eta 0:00:01\r\u001b[K     |█████████████████████████▋      | 215 kB 5.2 MB/s eta 0:00:01\r\u001b[K     |██████████████████████████▉     | 225 kB 5.2 MB/s eta 0:00:01\r\u001b[K     |████████████████████████████    | 235 kB 5.2 MB/s eta 0:00:01\r\u001b[K     |█████████████████████████████▎  | 245 kB 5.2 MB/s eta 0:00:01\r\u001b[K     |██████████████████████████████▍ | 256 kB 5.2 MB/s eta 0:00:01\r\u001b[K     |███████████████████████████████▋| 266 kB 5.2 MB/s eta 0:00:01\r\u001b[K     |████████████████████████████████| 269 kB 5.2 MB/s \n",
            "\u001b[?25hInstalling collected packages: dnspython\n",
            "Successfully installed dnspython-2.2.1\n"
          ]
        }
      ]
    },
    {
      "cell_type": "code",
      "source": [
        "client #접속확인"
      ],
      "metadata": {
        "colab": {
          "base_uri": "https://localhost:8080/"
        },
        "id": "CL9PMMhdfa2r",
        "outputId": "80bb6904-7e05-4a4b-d8fe-9a7323ff9f01"
      },
      "execution_count": 5,
      "outputs": [
        {
          "output_type": "execute_result",
          "data": {
            "text/plain": [
              "MongoClient(host=['cluster0-shard-00-01.kvcs9.mongodb.net:27017', 'cluster0-shard-00-02.kvcs9.mongodb.net:27017', 'cluster0-shard-00-00.kvcs9.mongodb.net:27017'], document_class=dict, tz_aware=False, connect=True, retrywrites=True, w='majority', authsource='admin', replicaset='atlas-xhixxm-shard-0', tls=True)"
            ]
          },
          "metadata": {},
          "execution_count": 5
        }
      ]
    },
    {
      "cell_type": "code",
      "source": [
        "client.Cluster0.list_collection_names() #존재하는 컬렉션 리스트 확인"
      ],
      "metadata": {
        "colab": {
          "base_uri": "https://localhost:8080/"
        },
        "id": "mnettKn4kp_T",
        "outputId": "4037c42f-2cb6-49e6-ceb9-62b3ba141696"
      },
      "execution_count": 6,
      "outputs": [
        {
          "output_type": "execute_result",
          "data": {
            "text/plain": [
              "['todos', 'posts', 'users']"
            ]
          },
          "metadata": {},
          "execution_count": 6
        }
      ]
    },
    {
      "cell_type": "code",
      "source": [
        "db = client.Cluster0 # db라고 줄여부르기"
      ],
      "metadata": {
        "id": "Nv-yy1Jmk02W"
      },
      "execution_count": 7,
      "outputs": []
    },
    {
      "cell_type": "code",
      "source": [
        "new_collection = db.posts # collection 선택하거나 새로운 collection 만들기"
      ],
      "metadata": {
        "id": "VrEYknmQoiDV"
      },
      "execution_count": 12,
      "outputs": []
    },
    {
      "cell_type": "code",
      "source": [
        "client.Cluster0.list_collection_names()"
      ],
      "metadata": {
        "colab": {
          "base_uri": "https://localhost:8080/"
        },
        "id": "bYpc_cMMoqr6",
        "outputId": "09564011-0a2b-41f9-facd-75ba22870a0d"
      },
      "execution_count": 13,
      "outputs": [
        {
          "output_type": "execute_result",
          "data": {
            "text/plain": [
              "['users']"
            ]
          },
          "metadata": {},
          "execution_count": 13
        }
      ]
    },
    {
      "cell_type": "code",
      "source": [
        "# 새 collection에 자료 추가하기\n",
        "new_collection.insert_one({'title':'hello, mongo', 'content':'Hello, all!'})"
      ],
      "metadata": {
        "colab": {
          "base_uri": "https://localhost:8080/"
        },
        "id": "0KjgaB2bouYc",
        "outputId": "b366369b-9f78-49b4-dd81-fbeb103d5dd9"
      },
      "execution_count": 14,
      "outputs": [
        {
          "output_type": "execute_result",
          "data": {
            "text/plain": [
              "<pymongo.results.InsertOneResult at 0x7f325d17e5f0>"
            ]
          },
          "metadata": {},
          "execution_count": 14
        }
      ]
    },
    {
      "cell_type": "code",
      "source": [
        "db.list_collection_names() # collection 만들어 졌는지 확인하기"
      ],
      "metadata": {
        "colab": {
          "base_uri": "https://localhost:8080/"
        },
        "id": "pobG1g_Eo9TJ",
        "outputId": "a7359dff-e997-4b28-fd08-49fda7ce9b16"
      },
      "execution_count": 15,
      "outputs": [
        {
          "output_type": "execute_result",
          "data": {
            "text/plain": [
              "['posts', 'users']"
            ]
          },
          "metadata": {},
          "execution_count": 15
        }
      ]
    },
    {
      "cell_type": "code",
      "source": [
        "query = {} # 조건: 없음\n",
        "db.posts.find_one(query) # 해당 조건에 일치하는 하나의 자료 검색하기"
      ],
      "metadata": {
        "colab": {
          "base_uri": "https://localhost:8080/"
        },
        "id": "pwSe7v2vpBJV",
        "outputId": "b8677498-bd0b-4e17-d0ea-9821765d4035"
      },
      "execution_count": 16,
      "outputs": [
        {
          "output_type": "execute_result",
          "data": {
            "text/plain": [
              "{'_id': ObjectId('624bf099cc2f4aab60e73554'),\n",
              " 'content': 'Hello, all!',\n",
              " 'title': 'hello, mongo'}"
            ]
          },
          "metadata": {},
          "execution_count": 16
        }
      ]
    },
    {
      "cell_type": "code",
      "source": [
        "# 많은 자료 한번에 입력하기\n",
        "many_posts = [\n",
        "  {'title':'post 1', 'content':'this is post 1'},\n",
        "  {'title':'post 2', 'content':'this is post 2'},\n",
        "  {'title':'post 3', 'content':'this is post 3'}\n",
        "]\n",
        "\n",
        "new_collection.insert_many(many_posts)"
      ],
      "metadata": {
        "colab": {
          "base_uri": "https://localhost:8080/"
        },
        "id": "erT-G-V0pf2t",
        "outputId": "484a21c0-f75a-4224-d71c-4c25a3fbcd47"
      },
      "execution_count": 17,
      "outputs": [
        {
          "output_type": "execute_result",
          "data": {
            "text/plain": [
              "<pymongo.results.InsertManyResult at 0x7f325b603370>"
            ]
          },
          "metadata": {},
          "execution_count": 17
        }
      ]
    },
    {
      "cell_type": "code",
      "source": [
        "query={}\n",
        "cursor = new_collection.find(query) # 조건에 일치하는 모든 자료 찾기"
      ],
      "metadata": {
        "id": "KK_s_fboqVjO"
      },
      "execution_count": 18,
      "outputs": []
    },
    {
      "cell_type": "code",
      "source": [
        "cursor"
      ],
      "metadata": {
        "colab": {
          "base_uri": "https://localhost:8080/"
        },
        "id": "O1UObjv7qtot",
        "outputId": "f1adca53-1fca-487e-a0ca-a13788ed47a9"
      },
      "execution_count": 20,
      "outputs": [
        {
          "output_type": "execute_result",
          "data": {
            "text/plain": [
              "<pymongo.cursor.Cursor at 0x7f325b60be10>"
            ]
          },
          "metadata": {},
          "execution_count": 20
        }
      ]
    },
    {
      "cell_type": "code",
      "source": [
        "[item for item in cursor] # 검색결과 조회하기"
      ],
      "metadata": {
        "colab": {
          "base_uri": "https://localhost:8080/"
        },
        "id": "sqddnImIqwvV",
        "outputId": "939ed3aa-4823-4d1c-c00d-6289d6540d47"
      },
      "execution_count": 21,
      "outputs": [
        {
          "output_type": "execute_result",
          "data": {
            "text/plain": [
              "[{'_id': ObjectId('624bf099cc2f4aab60e73554'),\n",
              "  'content': 'Hello, all!',\n",
              "  'title': 'hello, mongo'},\n",
              " {'_id': ObjectId('624bf203cc2f4aab60e73555'),\n",
              "  'content': 'this is post 1',\n",
              "  'title': 'post 1'},\n",
              " {'_id': ObjectId('624bf203cc2f4aab60e73556'),\n",
              "  'content': 'this is post 2',\n",
              "  'title': 'post 2'},\n",
              " {'_id': ObjectId('624bf203cc2f4aab60e73557'),\n",
              "  'content': 'this is post 3',\n",
              "  'title': 'post 3'}]"
            ]
          },
          "metadata": {},
          "execution_count": 21
        }
      ]
    },
    {
      "cell_type": "code",
      "source": [
        "new_list = []\n",
        "for item in cursor:\n",
        "  new_list.append(item)"
      ],
      "metadata": {
        "id": "HlfuORLlq3lV"
      },
      "execution_count": 22,
      "outputs": []
    },
    {
      "cell_type": "code",
      "source": [
        "user_collec = db.users"
      ],
      "metadata": {
        "id": "BKr0Pb99vTFt"
      },
      "execution_count": 8,
      "outputs": []
    },
    {
      "cell_type": "code",
      "source": [
        "many_users = [\n",
        "  {'name':'John Doe', 'email':'jd@gmail.com'},\n",
        "  {'name':'Jane Doe', 'email':'janed@gmail.com'},\n",
        "  {'name':'Gil-dong Hong', 'email':'gdhong@naver.com'},\n",
        "] # trailing comma: 마지막 자료의 뒤에 붙는 쉼표.\n",
        "\n",
        "user_collec.insert_many(many_users)"
      ],
      "metadata": {
        "colab": {
          "base_uri": "https://localhost:8080/"
        },
        "id": "HlkNmsokwBTo",
        "outputId": "aa35f7e2-28b2-4e73-b127-2fc95d2c0d91"
      },
      "execution_count": 27,
      "outputs": [
        {
          "output_type": "execute_result",
          "data": {
            "text/plain": [
              "<pymongo.results.InsertManyResult at 0x7f325b612d20>"
            ]
          },
          "metadata": {},
          "execution_count": 27
        }
      ]
    },
    {
      "cell_type": "code",
      "source": [
        "query = {\n",
        "    'name':'John Doe'\n",
        "}\n",
        "cursor = user_collec.find(query)\n",
        "[item for item in cursor]"
      ],
      "metadata": {
        "colab": {
          "base_uri": "https://localhost:8080/"
        },
        "id": "F7O6-O5XxD1I",
        "outputId": "225ec993-b58b-4b71-eba3-e0ad407d6e60"
      },
      "execution_count": 30,
      "outputs": [
        {
          "output_type": "execute_result",
          "data": {
            "text/plain": [
              "[{'_id': ObjectId('624bf8e5cc2f4aab60e73558'),\n",
              "  'email': 'jd@gmail.com',\n",
              "  'name': 'John Doe'},\n",
              " {'_id': ObjectId('624bf8f4cc2f4aab60e7355b'),\n",
              "  'email': 'jd@gmail.com',\n",
              "  'name': 'John Doe'}]"
            ]
          },
          "metadata": {},
          "execution_count": 30
        }
      ]
    },
    {
      "cell_type": "code",
      "source": [
        "query = {\n",
        "    'email':'janed@gmail.com'\n",
        "}\n",
        "cursor = user_collec.find(query)\n",
        "[item for item in cursor]"
      ],
      "metadata": {
        "colab": {
          "base_uri": "https://localhost:8080/"
        },
        "id": "ggPXCzp1xd-T",
        "outputId": "e123e934-a450-456c-aede-94b7fa9fa929"
      },
      "execution_count": 31,
      "outputs": [
        {
          "output_type": "execute_result",
          "data": {
            "text/plain": [
              "[{'_id': ObjectId('624bf8e5cc2f4aab60e73559'),\n",
              "  'email': 'janed@gmail.com',\n",
              "  'name': 'Jane Doe'},\n",
              " {'_id': ObjectId('624bf8f4cc2f4aab60e7355c'),\n",
              "  'email': 'janed@gmail.com',\n",
              "  'name': 'Jane Doe'}]"
            ]
          },
          "metadata": {},
          "execution_count": 31
        }
      ]
    },
    {
      "cell_type": "code",
      "source": [
        "# 부분적으로 일치하는 자료를 찾기위한 조건 만들기\n",
        "\n",
        "# mongodb ref: https://www.mongodb.com/docs/manual/reference/operator/query/in/#use-the--in-operator-with-a-regular-expression\n",
        "# stackoverflow: https://stackoverflow.com/questions/3483318/performing-regex-queries-with-pymongo\n",
        "query = {\n",
        "    'name':{'$regex':'^J'}\n",
        "}\n",
        "cursor = user_collec.find(query)\n",
        "[item for item in cursor]"
      ],
      "metadata": {
        "colab": {
          "base_uri": "https://localhost:8080/"
        },
        "id": "uiMPCi62x-94",
        "outputId": "0ca2e5bc-0508-4561-9f5e-6b6cd421fae0"
      },
      "execution_count": 9,
      "outputs": [
        {
          "output_type": "execute_result",
          "data": {
            "text/plain": [
              "[{'_id': ObjectId('624bf8e5cc2f4aab60e73558'),\n",
              "  'email': 'jd@gmail.com',\n",
              "  'name': 'John Doe'},\n",
              " {'_id': ObjectId('624bf8e5cc2f4aab60e73559'),\n",
              "  'email': 'janed@gmail.com',\n",
              "  'name': 'Jane Doe'},\n",
              " {'_id': ObjectId('624bf8f4cc2f4aab60e7355b'),\n",
              "  'email': 'jd@gmail.com',\n",
              "  'name': 'John Doe'},\n",
              " {'_id': ObjectId('624bf8f4cc2f4aab60e7355c'),\n",
              "  'email': 'janed@gmail.com',\n",
              "  'name': 'Jane Doe'},\n",
              " {'_id': ObjectId('624bfcebcc2f4aab60e7355e'),\n",
              "  'age': 30,\n",
              "  'email': 'jd@gmail.com',\n",
              "  'name': 'John Doe'},\n",
              " {'_id': ObjectId('624bfcebcc2f4aab60e7355f'),\n",
              "  'age': 20,\n",
              "  'email': 'janed@gmail.com',\n",
              "  'name': 'Jane Doe'},\n",
              " {'_id': ObjectId('624c02b0a6605563d4ccf536'),\n",
              "  'email': 'jd@gmail.com',\n",
              "  'name': 'John Doe'},\n",
              " {'_id': ObjectId('624c02b0a6605563d4ccf537'),\n",
              "  'email': 'janed@gmail.com',\n",
              "  'name': 'Jane Doe'},\n",
              " {'_id': ObjectId('624c02b1a6605563d4ccf539'),\n",
              "  'age': 30,\n",
              "  'email': 'jd@gmail.com',\n",
              "  'name': 'John Doe'},\n",
              " {'_id': ObjectId('624c02b1a6605563d4ccf53a'),\n",
              "  'age': 20,\n",
              "  'email': 'janed@gmail.com',\n",
              "  'name': 'Jane Doe'},\n",
              " {'_id': ObjectId('624c0db35036443b9bcc780c'),\n",
              "  'email': 'jd@gmail.com',\n",
              "  'name': 'John Doe'},\n",
              " {'_id': ObjectId('624c0db35036443b9bcc780d'),\n",
              "  'email': 'janed@gmail.com',\n",
              "  'name': 'Jane Doe'},\n",
              " {'_id': ObjectId('624c0db45036443b9bcc780f'),\n",
              "  'age': 30,\n",
              "  'email': 'jd@gmail.com',\n",
              "  'name': 'John Doe'},\n",
              " {'_id': ObjectId('624c0db45036443b9bcc7810'),\n",
              "  'age': 20,\n",
              "  'email': 'janed@gmail.com',\n",
              "  'name': 'Jane Doe'}]"
            ]
          },
          "metadata": {},
          "execution_count": 9
        }
      ]
    },
    {
      "cell_type": "code",
      "source": [
        "query = {\n",
        "    \"name\":\"Gil-dong Hong\",\n",
        "    \"email\":\"gdhong@naver.com\"\n",
        "}\n",
        "cursor = user_collec.find(query)\n",
        "[item for item in cursor]"
      ],
      "metadata": {
        "colab": {
          "base_uri": "https://localhost:8080/"
        },
        "id": "Q9awF41wytcI",
        "outputId": "4632176f-26a4-4001-e13c-a606b33ecaf6"
      },
      "execution_count": 33,
      "outputs": [
        {
          "output_type": "execute_result",
          "data": {
            "text/plain": [
              "[{'_id': ObjectId('624bf8e5cc2f4aab60e7355a'),\n",
              "  'email': 'gdhong@naver.com',\n",
              "  'name': 'Gil-dong Hong'},\n",
              " {'_id': ObjectId('624bf8f4cc2f4aab60e7355d'),\n",
              "  'email': 'gdhong@naver.com',\n",
              "  'name': 'Gil-dong Hong'}]"
            ]
          },
          "metadata": {},
          "execution_count": 33
        }
      ]
    },
    {
      "cell_type": "code",
      "source": [
        "query = {\n",
        "    '$or': [\n",
        "         {'name':'John Doe'},\n",
        "          {'email':'janed@gmail.com'}\n",
        "    ]\n",
        "}\n",
        "\n",
        "cursor = user_collec.find(query)\n",
        "[item for item in cursor]"
      ],
      "metadata": {
        "colab": {
          "base_uri": "https://localhost:8080/"
        },
        "id": "8GOHbIV9zcEN",
        "outputId": "b76aa068-eced-46a9-f24a-6d8fe56ea000"
      },
      "execution_count": 34,
      "outputs": [
        {
          "output_type": "execute_result",
          "data": {
            "text/plain": [
              "[{'_id': ObjectId('624bf8e5cc2f4aab60e73558'),\n",
              "  'email': 'jd@gmail.com',\n",
              "  'name': 'John Doe'},\n",
              " {'_id': ObjectId('624bf8e5cc2f4aab60e73559'),\n",
              "  'email': 'janed@gmail.com',\n",
              "  'name': 'Jane Doe'},\n",
              " {'_id': ObjectId('624bf8f4cc2f4aab60e7355b'),\n",
              "  'email': 'jd@gmail.com',\n",
              "  'name': 'John Doe'},\n",
              " {'_id': ObjectId('624bf8f4cc2f4aab60e7355c'),\n",
              "  'email': 'janed@gmail.com',\n",
              "  'name': 'Jane Doe'}]"
            ]
          },
          "metadata": {},
          "execution_count": 34
        }
      ]
    },
    {
      "cell_type": "code",
      "source": [
        "many_users = [\n",
        "  {'name':'John Doe', 'email':'jd@gmail.com', 'age':30},\n",
        "  {'name':'Jane Doe', 'email':'janed@gmail.com', 'age':20},\n",
        "  {'name':'Gil-dong Hong', 'email':'gdhong@naver.com', 'age':10},\n",
        "] # trailing comma: 마지막 자료의 뒤에 붙는 쉼표.\n",
        "\n",
        "user_collec.insert_many(many_users)"
      ],
      "metadata": {
        "colab": {
          "base_uri": "https://localhost:8080/"
        },
        "id": "m77tfqMg0pFb",
        "outputId": "c868f99c-8334-45eb-c47f-b17058b557bf"
      },
      "execution_count": 35,
      "outputs": [
        {
          "output_type": "execute_result",
          "data": {
            "text/plain": [
              "<pymongo.results.InsertManyResult at 0x7f325b4dd190>"
            ]
          },
          "metadata": {},
          "execution_count": 35
        }
      ]
    },
    {
      "cell_type": "code",
      "source": [
        "[item for item in user_collec.find({})]"
      ],
      "metadata": {
        "colab": {
          "base_uri": "https://localhost:8080/"
        },
        "id": "Vap9LwAs0_Mz",
        "outputId": "ca964b90-4aa7-45a5-c8ba-2ec59faf1a39"
      },
      "execution_count": 36,
      "outputs": [
        {
          "output_type": "execute_result",
          "data": {
            "text/plain": [
              "[{'_id': ObjectId('624bf8e5cc2f4aab60e73558'),\n",
              "  'email': 'jd@gmail.com',\n",
              "  'name': 'John Doe'},\n",
              " {'_id': ObjectId('624bf8e5cc2f4aab60e73559'),\n",
              "  'email': 'janed@gmail.com',\n",
              "  'name': 'Jane Doe'},\n",
              " {'_id': ObjectId('624bf8e5cc2f4aab60e7355a'),\n",
              "  'email': 'gdhong@naver.com',\n",
              "  'name': 'Gil-dong Hong'},\n",
              " {'_id': ObjectId('624bf8f4cc2f4aab60e7355b'),\n",
              "  'email': 'jd@gmail.com',\n",
              "  'name': 'John Doe'},\n",
              " {'_id': ObjectId('624bf8f4cc2f4aab60e7355c'),\n",
              "  'email': 'janed@gmail.com',\n",
              "  'name': 'Jane Doe'},\n",
              " {'_id': ObjectId('624bf8f4cc2f4aab60e7355d'),\n",
              "  'email': 'gdhong@naver.com',\n",
              "  'name': 'Gil-dong Hong'},\n",
              " {'_id': ObjectId('624bfcebcc2f4aab60e7355e'),\n",
              "  'age': 30,\n",
              "  'email': 'jd@gmail.com',\n",
              "  'name': 'John Doe'},\n",
              " {'_id': ObjectId('624bfcebcc2f4aab60e7355f'),\n",
              "  'age': 20,\n",
              "  'email': 'janed@gmail.com',\n",
              "  'name': 'Jane Doe'},\n",
              " {'_id': ObjectId('624bfcebcc2f4aab60e73560'),\n",
              "  'age': 10,\n",
              "  'email': 'gdhong@naver.com',\n",
              "  'name': 'Gil-dong Hong'}]"
            ]
          },
          "metadata": {},
          "execution_count": 36
        }
      ]
    },
    {
      "cell_type": "code",
      "source": [
        "# 연산자를 활용한 조건에 맞는 자료 찾기\n",
        "query = {\n",
        "    'age':{'$lt':20}\n",
        "}\n",
        "\n",
        "cursor = user_collec.find(query)\n",
        "[item for item in cursor]"
      ],
      "metadata": {
        "colab": {
          "base_uri": "https://localhost:8080/"
        },
        "id": "0DqdiA791DbY",
        "outputId": "79c618fb-3141-4e1a-a47f-f3fbc9ef742e"
      },
      "execution_count": 42,
      "outputs": [
        {
          "output_type": "execute_result",
          "data": {
            "text/plain": [
              "[{'_id': ObjectId('624bfcebcc2f4aab60e73560'),\n",
              "  'age': 10,\n",
              "  'email': 'gdhong@naver.com',\n",
              "  'name': 'Gil-dong Hong'}]"
            ]
          },
          "metadata": {},
          "execution_count": 42
        }
      ]
    },
    {
      "cell_type": "code",
      "source": [
        "# 웹의 json 데이터를 mongodb에 입력하기\n",
        "import requests"
      ],
      "metadata": {
        "id": "hQ3d2gOY2n30"
      },
      "execution_count": 44,
      "outputs": []
    },
    {
      "cell_type": "code",
      "source": [
        "# requests 사용예제(google.com 접속해보기)\n",
        "response = requests.get('http://www.google.com/')"
      ],
      "metadata": {
        "id": "nQIYH2wC3DpA"
      },
      "execution_count": 46,
      "outputs": []
    },
    {
      "cell_type": "code",
      "source": [
        "# http response code check (200:OK)\n",
        "response.status_code"
      ],
      "metadata": {
        "colab": {
          "base_uri": "https://localhost:8080/"
        },
        "id": "OpC26_X53KRw",
        "outputId": "2c8b0f46-833c-4f40-992d-dd8b2711c5ac"
      },
      "execution_count": 47,
      "outputs": [
        {
          "output_type": "execute_result",
          "data": {
            "text/plain": [
              "200"
            ]
          },
          "metadata": {},
          "execution_count": 47
        }
      ]
    },
    {
      "cell_type": "code",
      "source": [
        "# text 값 확인\n",
        "response.text"
      ],
      "metadata": {
        "colab": {
          "base_uri": "https://localhost:8080/",
          "height": 226
        },
        "id": "1kUFepRJ3OEN",
        "outputId": "c4e58207-3dd7-43ae-d8d8-8bc7e1386718"
      },
      "execution_count": 48,
      "outputs": [
        {
          "output_type": "execute_result",
          "data": {
            "text/plain": [
              "'<!doctype html><html itemscope=\"\" itemtype=\"http://schema.org/WebPage\" lang=\"en\"><head><meta content=\"Search the world\\'s information, including webpages, images, videos and more. Google has many special features to help you find exactly what you\\'re looking for.\" name=\"description\"><meta content=\"noodp\" name=\"robots\"><meta content=\"text/html; charset=UTF-8\" http-equiv=\"Content-Type\"><meta content=\"/images/branding/googleg/1x/googleg_standard_color_128dp.png\" itemprop=\"image\"><title>Google</title><script nonce=\"ehzyFzXrb1fl7Q3loNGh6w==\">(function(){window.google={kEI:\\'Lv9LYtafD97P0PEPncmdsAU\\',kEXPI:\\'0,1302536,56873,6059,206,4804,2316,383,246,5,1354,4013,1238,1122515,1197748,653,380090,16114,28684,893,16679,4859,1361,9290,3023,17586,4020,978,13228,3847,4192,6430,22741,5081,1594,1278,2742,149,1103,840,1983,214,4100,108,3406,606,2023,1777,520,14670,3227,2845,7,4811,788,11851,16320,1851,2614,12710,432,3,1590,1,5445,150,11321,991,1661,4,1528,2304,7039,20309,1714,3050,2658,7357,30,16608,1457,9358,5993,1435,651,5176,2530,4094,17,4035,3,3541,1,14711,2096,22235,1,3111,2,14022,1931,442,342,255,2993,1557,743,5853,10463,1160,5679,1021,2380,2717,16550,1684,46,1,8,7735,4569,6258,6723,1,16694,1252,4570,1,8,1256,1169,13798,1539,2794,2083,121,73,1967,43,1802,1395,445,2,2,1,6395,564,3998,10489,3333,1418,10,1,424,8049,106,113,6469,568,231,2,3,182,2,1212,1048,594,5213,2215,421,2852,936,6549,792,4447,174,1449,3,1,5829,227,1144,1411,913,415,371,770,265,2151,1584,839,29,4,1,45,18,500,1250,84,294,589,1356,54,750,100,750,933,468,1977,92,2552,303,110,1368,374,329,1105,818,333,232,444,500,1,1407,445,486,935,227,1637,3049,5444853,2032,100,742,357,116,8796696,882,444,3,1877,1,2562,1,748,141,795,563,1,4265,1,1,2,1331,4142,2609,155,17,13,72,139,4,2,20,2,169,13,19,46,5,39,96,548,29,2,2,1,2,1,2,2,7,4,1,2,2,2,2,2,2,353,513,186,1,1,158,3,2,2,2,2,2,4,2,3,3,269,1601,141,1002,71,241,126,7,2,8,7,2,5,1,5,3,24,23951476,4038575,3,3112,3,450,1964,1008,1927,159,1358,963,3763,3,2664,3724,375,728,2648,863,10\\',kBL:\\'zIb2\\'};google.sn=\\'webhp\\';google.kHL=\\'en\\';})();(function(){\\nvar f=this||self;var h,k=[];function l(a){for(var b;a&&(!a.getAttribute||!(b=a.getAttribute(\"eid\")));)a=a.parentNode;return b||h}function m(a){for(var b=null;a&&(!a.getAttribute||!(b=a.getAttribute(\"leid\")));)a=a.parentNode;return b}\\nfunction n(a,b,c,d,g){var e=\"\";c||-1!==b.search(\"&ei=\")||(e=\"&ei=\"+l(d),-1===b.search(\"&lei=\")&&(d=m(d))&&(e+=\"&lei=\"+d));d=\"\";!c&&f._cshid&&-1===b.search(\"&cshid=\")&&\"slh\"!==a&&(d=\"&cshid=\"+f._cshid);c=c||\"/\"+(g||\"gen_204\")+\"?atyp=i&ct=\"+a+\"&cad=\"+b+e+\"&zx=\"+Date.now()+d;/^http:/i.test(c)&&\"https:\"===window.location.protocol&&(google.ml&&google.ml(Error(\"a\"),!1,{src:c,glmm:1}),c=\"\");return c};h=google.kEI;google.getEI=l;google.getLEI=m;google.ml=function(){return null};google.log=function(a,b,c,d,g){if(c=n(a,b,c,d,g)){a=new Image;var e=k.length;k[e]=a;a.onerror=a.onload=a.onabort=function(){delete k[e]};a.src=c}};google.logUrl=n;}).call(this);(function(){\\ngoogle.y={};google.sy=[];google.x=function(a,b){if(a)var c=a.id;else{do c=Math.random();while(google.y[c])}google.y[c]=[a,b];return!1};google.sx=function(a){google.sy.push(a)};google.lm=[];google.plm=function(a){google.lm.push.apply(google.lm,a)};google.lq=[];google.load=function(a,b,c){google.lq.push([[a],b,c])};google.loadAll=function(a,b){google.lq.push([a,b])};google.bx=!1;google.lx=function(){};}).call(this);google.f={};(function(){\\ndocument.documentElement.addEventListener(\"submit\",function(b){var a;if(a=b.target){var c=a.getAttribute(\"data-submitfalse\");a=\"1\"===c||\"q\"===c&&!a.elements.q.value?!0:!1}else a=!1;a&&(b.preventDefault(),b.stopPropagation())},!0);document.documentElement.addEventListener(\"click\",function(b){var a;a:{for(a=b.target;a&&a!==document.documentElement;a=a.parentElement)if(\"A\"===a.tagName){a=\"1\"===a.getAttribute(\"data-nohref\");break a}a=!1}a&&b.preventDefault()},!0);}).call(this);</script><style>#gbar,#guser{font-size:13px;padding-top:1px !important;}#gbar{height:22px}#guser{padding-bottom:7px !important;text-align:right}.gbh,.gbd{border-top:1px solid #c9d7f1;font-size:1px}.gbh{height:0;position:absolute;top:24px;width:100%}@media all{.gb1{height:22px;margin-right:.5em;vertical-align:top}#gbar{float:left}}a.gb1,a.gb4{text-decoration:underline !important}a.gb1,a.gb4{color:#00c !important}.gbi .gb4{color:#dd8e27 !important}.gbf .gb4{color:#900 !important}\\n</style><style>body,td,a,p,.h{font-family:arial,sans-serif}body{margin:0;overflow-y:scroll}#gog{padding:3px 8px 0}td{line-height:.8em}.gac_m td{line-height:17px}form{margin-bottom:20px}.h{color:#1558d6}em{font-weight:bold;font-style:normal}.lst{height:25px;width:496px}.gsfi,.lst{font:18px arial,sans-serif}.gsfs{font:17px arial,sans-serif}.ds{display:inline-box;display:inline-block;margin:3px 0 4px;margin-left:4px}input{font-family:inherit}body{background:#fff;color:#000}a{color:#4b11a8;text-decoration:none}a:hover,a:active{text-decoration:underline}.fl a{color:#1558d6}a:visited{color:#4b11a8}.sblc{padding-top:5px}.sblc a{display:block;margin:2px 0;margin-left:13px;font-size:11px}.lsbb{background:#f8f9fa;border:solid 1px;border-color:#dadce0 #70757a #70757a #dadce0;height:30px}.lsbb{display:block}#WqQANb a{display:inline-block;margin:0 12px}.lsb{background:url(/images/nav_logo229.png) 0 -261px repeat-x;border:none;color:#000;cursor:pointer;height:30px;margin:0;outline:0;font:15px arial,sans-serif;vertical-align:top}.lsb:active{background:#dadce0}.lst:focus{outline:none}</style><script nonce=\"ehzyFzXrb1fl7Q3loNGh6w==\">(function(){window.google.erd={jsr:1,bv:1555,de:true};\\nvar f=this||self;var g,h=null!=(g=f.mei)?g:1,m,n=null!=(m=f.sdo)?m:!0,p=0,q,r=google.erd,u=r.jsr;google.ml=function(a,b,d,k,c){c=void 0===c?2:c;b&&(q=a&&a.message);if(google.dl)return google.dl(a,c,d),null;if(0>u){window.console&&console.error(a,d);if(-2===u)throw a;b=!1}else b=!a||!a.message||\"Error loading script\"===a.message||p>=h&&!k?!1:!0;if(!b)return null;p++;d=d||{};var e=c;c=encodeURIComponent;b=\"/gen_204?atyp=i&ei=\"+c(google.kEI);google.kEXPI&&(b+=\"&jexpid=\"+c(google.kEXPI));b+=\"&srcpg=\"+c(google.sn)+\"&jsr=\"+c(r.jsr)+\"&bver=\"+c(r.bv)+(\"&jsel=\"+e);e=a.lineNumber;void 0!==e&&(b+=\"&line=\"+\\ne);var l=a.fileName;l&&(b+=\"&script=\"+c(l),e&&l===window.location.href&&(e=document.documentElement.outerHTML.split(\"\\\\n\")[e],b+=\"&cad=\"+c(e?e.substring(0,300):\"No script found.\")));for(var t in d)b+=\"&\",b+=c(t),b+=\"=\",b+=c(d[t]);b=b+\"&emsg=\"+c(a.name+\": \"+a.message);b=b+\"&jsst=\"+c(a.stack||\"N/A\");12288<=b.length&&(b=b.substr(0,12288));a=b;k||google.log(0,\"\",a);return a};window.onerror=function(a,b,d,k,c){q!==a&&(a=c instanceof Error?c:Error(a),void 0===d||\"lineNumber\"in a||(a.lineNumber=d),void 0===b||\"fileName\"in a||(a.fileName=b),google.ml(a,!1,void 0,!1,\"SyntaxError\"===a.name||\"SyntaxError\"===a.message.substring(0,11)?2:0));q=null;n&&p>=h&&(window.onerror=null)};})();</script></head><body bgcolor=\"#fff\"><script nonce=\"ehzyFzXrb1fl7Q3loNGh6w==\">(function(){var src=\\'/images/nav_logo229.png\\';var iesg=false;document.body.onload = function(){window.n && window.n();if (document.images){new Image().src=src;}\\nif (!iesg){document.f&&document.f.q.focus();document.gbqf&&document.gbqf.q.focus();}\\n}\\n})();</script><div id=\"mngb\"><div id=gbar><nobr><b class=gb1>Search</b> <a class=gb1 href=\"http://www.google.com/imghp?hl=en&tab=wi\">Images</a> <a class=gb1 href=\"http://maps.google.com/maps?hl=en&tab=wl\">Maps</a> <a class=gb1 href=\"https://play.google.com/?hl=en&tab=w8\">Play</a> <a class=gb1 href=\"http://www.youtube.com/?gl=US&tab=w1\">YouTube</a> <a class=gb1 href=\"https://news.google.com/?tab=wn\">News</a> <a class=gb1 href=\"https://mail.google.com/mail/?tab=wm\">Gmail</a> <a class=gb1 href=\"https://drive.google.com/?tab=wo\">Drive</a> <a class=gb1 style=\"text-decoration:none\" href=\"https://www.google.com/intl/en/about/products?tab=wh\"><u>More</u> &raquo;</a></nobr></div><div id=guser width=100%><nobr><span id=gbn class=gbi></span><span id=gbf class=gbf></span><span id=gbe></span><a href=\"http://www.google.com/history/optout?hl=en\" class=gb4>Web History</a> | <a  href=\"/preferences?hl=en\" class=gb4>Settings</a> | <a target=_top id=gb_70 href=\"https://accounts.google.com/ServiceLogin?hl=en&passive=true&continue=http://www.google.com/&ec=GAZAAQ\" class=gb4>Sign in</a></nobr></div><div class=gbh style=left:0></div><div class=gbh style=right:0></div></div><center><br clear=\"all\" id=\"lgpd\"><div id=\"lga\"><img alt=\"Google\" height=\"92\" src=\"/images/branding/googlelogo/1x/googlelogo_white_background_color_272x92dp.png\" style=\"padding:28px 0 14px\" width=\"272\" id=\"hplogo\"><br><br></div><form action=\"/search\" name=\"f\"><table cellpadding=\"0\" cellspacing=\"0\"><tr valign=\"top\"><td width=\"25%\">&nbsp;</td><td align=\"center\" nowrap=\"\"><input name=\"ie\" value=\"ISO-8859-1\" type=\"hidden\"><input value=\"en\" name=\"hl\" type=\"hidden\"><input name=\"source\" type=\"hidden\" value=\"hp\"><input name=\"biw\" type=\"hidden\"><input name=\"bih\" type=\"hidden\"><div class=\"ds\" style=\"height:32px;margin:4px 0\"><input class=\"lst\" style=\"margin:0;padding:5px 8px 0 6px;vertical-align:top;color:#000\" autocomplete=\"off\" value=\"\" title=\"Google Search\" maxlength=\"2048\" name=\"q\" size=\"57\"></div><br style=\"line-height:0\"><span class=\"ds\"><span class=\"lsbb\"><input class=\"lsb\" value=\"Google Search\" name=\"btnG\" type=\"submit\"></span></span><span class=\"ds\"><span class=\"lsbb\"><input class=\"lsb\" id=\"tsuid1\" value=\"I\\'m Feeling Lucky\" name=\"btnI\" type=\"submit\"><script nonce=\"ehzyFzXrb1fl7Q3loNGh6w==\">(function(){var id=\\'tsuid1\\';document.getElementById(id).onclick = function(){if (this.form.q.value){this.checked = 1;if (this.form.iflsig)this.form.iflsig.disabled = false;}\\nelse top.location=\\'/doodles/\\';};})();</script><input value=\"AHkkrS4AAAAAYkwNPsKYdvk5R6ueex0dLiQbWkrDVPcd\" name=\"iflsig\" type=\"hidden\"></span></span></td><td class=\"fl sblc\" align=\"left\" nowrap=\"\" width=\"25%\"><a href=\"/advanced_search?hl=en&amp;authuser=0\">Advanced search</a></td></tr></table><input id=\"gbv\" name=\"gbv\" type=\"hidden\" value=\"1\"><script nonce=\"ehzyFzXrb1fl7Q3loNGh6w==\">(function(){\\nvar a,b=\"1\";if(document&&document.getElementById)if(\"undefined\"!=typeof XMLHttpRequest)b=\"2\";else if(\"undefined\"!=typeof ActiveXObject){var c,d,e=[\"MSXML2.XMLHTTP.6.0\",\"MSXML2.XMLHTTP.3.0\",\"MSXML2.XMLHTTP\",\"Microsoft.XMLHTTP\"];for(c=0;d=e[c++];)try{new ActiveXObject(d),b=\"2\"}catch(h){}}a=b;if(\"2\"==a&&-1==location.search.indexOf(\"&gbv=2\")){var f=google.gbvu,g=document.getElementById(\"gbv\");g&&(g.value=a);f&&window.setTimeout(function(){location.href=f},0)};}).call(this);</script></form><div id=\"gac_scont\"></div><div style=\"font-size:83%;min-height:3.5em\"><br></div><span id=\"footer\"><div style=\"font-size:10pt\"><div style=\"margin:19px auto;text-align:center\" id=\"WqQANb\"><a href=\"/intl/en/ads/\">Advertising\\xa0Programs</a><a href=\"/services/\">Business Solutions</a><a href=\"/intl/en/about.html\">About Google</a></div></div><p style=\"font-size:8pt;color:#70757a\">&copy; 2022 - <a href=\"/intl/en/policies/privacy/\">Privacy</a> - <a href=\"/intl/en/policies/terms/\">Terms</a></p></span></center><script nonce=\"ehzyFzXrb1fl7Q3loNGh6w==\">(function(){window.google.cdo={height:757,width:1440};(function(){\\nvar a=window.innerWidth,b=window.innerHeight;if(!a||!b){var c=window.document,d=\"CSS1Compat\"==c.compatMode?c.documentElement:c.body;a=d.clientWidth;b=d.clientHeight}a&&b&&(a!=google.cdo.width||b!=google.cdo.height)&&google.log(\"\",\"\",\"/client_204?&atyp=i&biw=\"+a+\"&bih=\"+b+\"&ei=\"+google.kEI);}).call(this);})();</script> <script nonce=\"ehzyFzXrb1fl7Q3loNGh6w==\">(function(){google.xjs={ck:\\'\\',cs:\\'\\',excm:[]};})();</script>  <script nonce=\"ehzyFzXrb1fl7Q3loNGh6w==\">(function(){var u=\\'/xjs/_/js/k\\\\x3dxjs.hp.en_US.DfcTcxDpFPQ.O/am\\\\x3dAOAJAIAEIAE/d\\\\x3d1/ed\\\\x3d1/esmo\\\\x3d1/rs\\\\x3dACT90oF_2ZCH-6H_fdU7aPKP6Nm-IJoFww/m\\\\x3dsb_he,d\\';\\nvar d=this||self,e=function(a){return a};var g;var l=function(a,b){this.g=b===h?a:\"\"};l.prototype.toString=function(){return this.g+\"\"};var h={};\\nfunction n(){var a=u;google.lx=function(){p(a);google.lx=function(){}};google.bx||google.lx()}\\nfunction p(a){google.timers&&google.timers.load&&google.tick&&google.tick(\"load\",\"xjsls\");var b=document;var c=\"SCRIPT\";\"application/xhtml+xml\"===b.contentType&&(c=c.toLowerCase());c=b.createElement(c);if(void 0===g){b=null;var k=d.trustedTypes;if(k&&k.createPolicy){try{b=k.createPolicy(\"goog#html\",{createHTML:e,createScript:e,createScriptURL:e})}catch(q){d.console&&d.console.error(q.message)}g=b}else g=b}a=(b=g)?b.createScriptURL(a):a;a=new l(a,h);c.src=a instanceof l&&a.constructor===l?a.g:\"type_error:TrustedResourceUrl\";var f,m;(f=(a=null==(m=(f=(c.ownerDocument&&c.ownerDocument.defaultView||window).document).querySelector)?void 0:m.call(f,\"script[nonce]\"))?a.nonce||a.getAttribute(\"nonce\")||\"\":\"\")&&c.setAttribute(\"nonce\",f);document.body.appendChild(c);google.psa=!0};google.xjsu=u;setTimeout(function(){n()},0);})();function _DumpException(e){throw e;}\\nfunction _F_installCss(c){}\\n(function(){google.jl={attn:false,blt:\\'none\\',chnk:0,dw:false,dwu:true,emtn:0,end:0,ine:false,injs:\\'none\\',injt:0,lls:\\'default\\',pdt:0,rep:0,snet:true,strt:0,ubm:false,uwp:true};})();(function(){var pmc=\\'{\\\\x22d\\\\x22:{},\\\\x22sb_he\\\\x22:{\\\\x22agen\\\\x22:true,\\\\x22cgen\\\\x22:true,\\\\x22client\\\\x22:\\\\x22heirloom-hp\\\\x22,\\\\x22dh\\\\x22:true,\\\\x22dhqt\\\\x22:true,\\\\x22ds\\\\x22:\\\\x22\\\\x22,\\\\x22ffql\\\\x22:\\\\x22en\\\\x22,\\\\x22fl\\\\x22:true,\\\\x22host\\\\x22:\\\\x22google.com\\\\x22,\\\\x22isbh\\\\x22:28,\\\\x22jsonp\\\\x22:true,\\\\x22msgs\\\\x22:{\\\\x22cibl\\\\x22:\\\\x22Clear Search\\\\x22,\\\\x22dym\\\\x22:\\\\x22Did you mean:\\\\x22,\\\\x22lcky\\\\x22:\\\\x22I\\\\\\\\u0026#39;m Feeling Lucky\\\\x22,\\\\x22lml\\\\x22:\\\\x22Learn more\\\\x22,\\\\x22oskt\\\\x22:\\\\x22Input tools\\\\x22,\\\\x22psrc\\\\x22:\\\\x22This search was removed from your \\\\\\\\u003Ca href\\\\x3d\\\\\\\\\\\\x22/history\\\\\\\\\\\\x22\\\\\\\\u003EWeb History\\\\\\\\u003C/a\\\\\\\\u003E\\\\x22,\\\\x22psrl\\\\x22:\\\\x22Remove\\\\x22,\\\\x22sbit\\\\x22:\\\\x22Search by image\\\\x22,\\\\x22srch\\\\x22:\\\\x22Google Search\\\\x22},\\\\x22ovr\\\\x22:{},\\\\x22pq\\\\x22:\\\\x22\\\\x22,\\\\x22refpd\\\\x22:true,\\\\x22rfs\\\\x22:[],\\\\x22sbas\\\\x22:\\\\x220 3px 8px 0 rgba(0,0,0,0.2),0 0 0 1px rgba(0,0,0,0.08)\\\\x22,\\\\x22sbpl\\\\x22:16,\\\\x22sbpr\\\\x22:16,\\\\x22scd\\\\x22:10,\\\\x22stok\\\\x22:\\\\x22QA5wgKZ_gRQR9j84zIqV_E6m5nA\\\\x22,\\\\x22uhde\\\\x22:false}}\\';google.pmc=JSON.parse(pmc);})();</script>        </body></html>'"
            ],
            "application/vnd.google.colaboratory.intrinsic+json": {
              "type": "string"
            }
          },
          "metadata": {},
          "execution_count": 48
        }
      ]
    },
    {
      "cell_type": "code",
      "source": [
        "# todo json 데이터 밀어넣기\n",
        "todo_collec = db.todos"
      ],
      "metadata": {
        "id": "GC2szL7C3P_p"
      },
      "execution_count": 49,
      "outputs": []
    },
    {
      "cell_type": "code",
      "source": [
        "response = requests.get('https://jsonplaceholder.typicode.com/users/1/todos')"
      ],
      "metadata": {
        "id": "V6Vgyt0x3zBs"
      },
      "execution_count": 50,
      "outputs": []
    },
    {
      "cell_type": "code",
      "source": [
        "response.status_code"
      ],
      "metadata": {
        "colab": {
          "base_uri": "https://localhost:8080/"
        },
        "id": "c56t4Bkz37dh",
        "outputId": "4307ef73-5576-4204-bb4b-d331bf608a0f"
      },
      "execution_count": 51,
      "outputs": [
        {
          "output_type": "execute_result",
          "data": {
            "text/plain": [
              "200"
            ]
          },
          "metadata": {},
          "execution_count": 51
        }
      ]
    },
    {
      "cell_type": "code",
      "source": [
        "# json 데이터로 변환하여 확인\n",
        "response.json()"
      ],
      "metadata": {
        "colab": {
          "base_uri": "https://localhost:8080/"
        },
        "id": "tiKFQtNQ38_2",
        "outputId": "f101cf3d-c789-4312-e79b-58e6dd0c5828"
      },
      "execution_count": 53,
      "outputs": [
        {
          "output_type": "execute_result",
          "data": {
            "text/plain": [
              "[{'completed': False, 'id': 1, 'title': 'delectus aut autem', 'userId': 1},\n",
              " {'completed': False,\n",
              "  'id': 2,\n",
              "  'title': 'quis ut nam facilis et officia qui',\n",
              "  'userId': 1},\n",
              " {'completed': False, 'id': 3, 'title': 'fugiat veniam minus', 'userId': 1},\n",
              " {'completed': True, 'id': 4, 'title': 'et porro tempora', 'userId': 1},\n",
              " {'completed': False,\n",
              "  'id': 5,\n",
              "  'title': 'laboriosam mollitia et enim quasi adipisci quia provident illum',\n",
              "  'userId': 1},\n",
              " {'completed': False,\n",
              "  'id': 6,\n",
              "  'title': 'qui ullam ratione quibusdam voluptatem quia omnis',\n",
              "  'userId': 1},\n",
              " {'completed': False,\n",
              "  'id': 7,\n",
              "  'title': 'illo expedita consequatur quia in',\n",
              "  'userId': 1},\n",
              " {'completed': True,\n",
              "  'id': 8,\n",
              "  'title': 'quo adipisci enim quam ut ab',\n",
              "  'userId': 1},\n",
              " {'completed': False,\n",
              "  'id': 9,\n",
              "  'title': 'molestiae perspiciatis ipsa',\n",
              "  'userId': 1},\n",
              " {'completed': True,\n",
              "  'id': 10,\n",
              "  'title': 'illo est ratione doloremque quia maiores aut',\n",
              "  'userId': 1},\n",
              " {'completed': True,\n",
              "  'id': 11,\n",
              "  'title': 'vero rerum temporibus dolor',\n",
              "  'userId': 1},\n",
              " {'completed': True,\n",
              "  'id': 12,\n",
              "  'title': 'ipsa repellendus fugit nisi',\n",
              "  'userId': 1},\n",
              " {'completed': False, 'id': 13, 'title': 'et doloremque nulla', 'userId': 1},\n",
              " {'completed': True,\n",
              "  'id': 14,\n",
              "  'title': 'repellendus sunt dolores architecto voluptatum',\n",
              "  'userId': 1},\n",
              " {'completed': True,\n",
              "  'id': 15,\n",
              "  'title': 'ab voluptatum amet voluptas',\n",
              "  'userId': 1},\n",
              " {'completed': True,\n",
              "  'id': 16,\n",
              "  'title': 'accusamus eos facilis sint et aut voluptatem',\n",
              "  'userId': 1},\n",
              " {'completed': True,\n",
              "  'id': 17,\n",
              "  'title': 'quo laboriosam deleniti aut qui',\n",
              "  'userId': 1},\n",
              " {'completed': False,\n",
              "  'id': 18,\n",
              "  'title': 'dolorum est consequatur ea mollitia in culpa',\n",
              "  'userId': 1},\n",
              " {'completed': True,\n",
              "  'id': 19,\n",
              "  'title': 'molestiae ipsa aut voluptatibus pariatur dolor nihil',\n",
              "  'userId': 1},\n",
              " {'completed': True,\n",
              "  'id': 20,\n",
              "  'title': 'ullam nobis libero sapiente ad optio sint',\n",
              "  'userId': 1}]"
            ]
          },
          "metadata": {},
          "execution_count": 53
        }
      ]
    },
    {
      "cell_type": "code",
      "source": [
        "# json 데이터 확인 후 한번에 입력하기\n",
        "to_insert = response.json()\n",
        "\n",
        "todo_collec.insert_many(to_insert)"
      ],
      "metadata": {
        "colab": {
          "base_uri": "https://localhost:8080/"
        },
        "id": "mz4ywp1a3-aX",
        "outputId": "53d1f698-55e7-411a-d29b-e361b175f5a9"
      },
      "execution_count": 54,
      "outputs": [
        {
          "output_type": "execute_result",
          "data": {
            "text/plain": [
              "<pymongo.results.InsertManyResult at 0x7f325b4eb910>"
            ]
          },
          "metadata": {},
          "execution_count": 54
        }
      ]
    },
    {
      "cell_type": "code",
      "source": [
        "# 저장상태 확인하기\n",
        "cursor = todo_collec.find({})\n",
        "[item for item in cursor]"
      ],
      "metadata": {
        "colab": {
          "base_uri": "https://localhost:8080/"
        },
        "id": "rF0mrpC44diy",
        "outputId": "721ca36c-ecb6-4271-d37c-98839039cba3"
      },
      "execution_count": 56,
      "outputs": [
        {
          "output_type": "execute_result",
          "data": {
            "text/plain": [
              "[{'_id': ObjectId('624c0079cc2f4aab60e73561'),\n",
              "  'completed': False,\n",
              "  'id': 1,\n",
              "  'title': 'delectus aut autem',\n",
              "  'userId': 1},\n",
              " {'_id': ObjectId('624c0079cc2f4aab60e73562'),\n",
              "  'completed': False,\n",
              "  'id': 2,\n",
              "  'title': 'quis ut nam facilis et officia qui',\n",
              "  'userId': 1},\n",
              " {'_id': ObjectId('624c0079cc2f4aab60e73563'),\n",
              "  'completed': False,\n",
              "  'id': 3,\n",
              "  'title': 'fugiat veniam minus',\n",
              "  'userId': 1},\n",
              " {'_id': ObjectId('624c0079cc2f4aab60e73564'),\n",
              "  'completed': True,\n",
              "  'id': 4,\n",
              "  'title': 'et porro tempora',\n",
              "  'userId': 1},\n",
              " {'_id': ObjectId('624c0079cc2f4aab60e73565'),\n",
              "  'completed': False,\n",
              "  'id': 5,\n",
              "  'title': 'laboriosam mollitia et enim quasi adipisci quia provident illum',\n",
              "  'userId': 1},\n",
              " {'_id': ObjectId('624c0079cc2f4aab60e73566'),\n",
              "  'completed': False,\n",
              "  'id': 6,\n",
              "  'title': 'qui ullam ratione quibusdam voluptatem quia omnis',\n",
              "  'userId': 1},\n",
              " {'_id': ObjectId('624c0079cc2f4aab60e73567'),\n",
              "  'completed': False,\n",
              "  'id': 7,\n",
              "  'title': 'illo expedita consequatur quia in',\n",
              "  'userId': 1},\n",
              " {'_id': ObjectId('624c0079cc2f4aab60e73568'),\n",
              "  'completed': True,\n",
              "  'id': 8,\n",
              "  'title': 'quo adipisci enim quam ut ab',\n",
              "  'userId': 1},\n",
              " {'_id': ObjectId('624c0079cc2f4aab60e73569'),\n",
              "  'completed': False,\n",
              "  'id': 9,\n",
              "  'title': 'molestiae perspiciatis ipsa',\n",
              "  'userId': 1},\n",
              " {'_id': ObjectId('624c0079cc2f4aab60e7356a'),\n",
              "  'completed': True,\n",
              "  'id': 10,\n",
              "  'title': 'illo est ratione doloremque quia maiores aut',\n",
              "  'userId': 1},\n",
              " {'_id': ObjectId('624c0079cc2f4aab60e7356b'),\n",
              "  'completed': True,\n",
              "  'id': 11,\n",
              "  'title': 'vero rerum temporibus dolor',\n",
              "  'userId': 1},\n",
              " {'_id': ObjectId('624c0079cc2f4aab60e7356c'),\n",
              "  'completed': True,\n",
              "  'id': 12,\n",
              "  'title': 'ipsa repellendus fugit nisi',\n",
              "  'userId': 1},\n",
              " {'_id': ObjectId('624c0079cc2f4aab60e7356d'),\n",
              "  'completed': False,\n",
              "  'id': 13,\n",
              "  'title': 'et doloremque nulla',\n",
              "  'userId': 1},\n",
              " {'_id': ObjectId('624c0079cc2f4aab60e7356e'),\n",
              "  'completed': True,\n",
              "  'id': 14,\n",
              "  'title': 'repellendus sunt dolores architecto voluptatum',\n",
              "  'userId': 1},\n",
              " {'_id': ObjectId('624c0079cc2f4aab60e7356f'),\n",
              "  'completed': True,\n",
              "  'id': 15,\n",
              "  'title': 'ab voluptatum amet voluptas',\n",
              "  'userId': 1},\n",
              " {'_id': ObjectId('624c0079cc2f4aab60e73570'),\n",
              "  'completed': True,\n",
              "  'id': 16,\n",
              "  'title': 'accusamus eos facilis sint et aut voluptatem',\n",
              "  'userId': 1},\n",
              " {'_id': ObjectId('624c0079cc2f4aab60e73571'),\n",
              "  'completed': True,\n",
              "  'id': 17,\n",
              "  'title': 'quo laboriosam deleniti aut qui',\n",
              "  'userId': 1},\n",
              " {'_id': ObjectId('624c0079cc2f4aab60e73572'),\n",
              "  'completed': False,\n",
              "  'id': 18,\n",
              "  'title': 'dolorum est consequatur ea mollitia in culpa',\n",
              "  'userId': 1},\n",
              " {'_id': ObjectId('624c0079cc2f4aab60e73573'),\n",
              "  'completed': True,\n",
              "  'id': 19,\n",
              "  'title': 'molestiae ipsa aut voluptatibus pariatur dolor nihil',\n",
              "  'userId': 1},\n",
              " {'_id': ObjectId('624c0079cc2f4aab60e73574'),\n",
              "  'completed': True,\n",
              "  'id': 20,\n",
              "  'title': 'ullam nobis libero sapiente ad optio sint',\n",
              "  'userId': 1}]"
            ]
          },
          "metadata": {},
          "execution_count": 56
        }
      ]
    },
    {
      "cell_type": "code",
      "source": [
        "## Small challenge on Day 1\n",
        "# 1. comments collection 만들기\n",
        "# 2. https://jsonplaceholder.typicode.com/posts/1/comments 를 request로 json 데이터 받기\n",
        "# 3. 받은 데이터를 밀어넣고 결과 호출\n",
        "\n",
        "# Answer\n",
        "\n",
        "comments = db.comments\n",
        "response = requests.get('https://jsonplaceholder.typicode.com/posts/1/comments')\n",
        "to_insert = response.json()\n",
        "comments.insert_many(to_insert)\n",
        "\n",
        "[item for item in comments.find({})]"
      ],
      "metadata": {
        "colab": {
          "base_uri": "https://localhost:8080/"
        },
        "id": "XaGr3mjz4gh0",
        "outputId": "2b71b78b-29a1-4596-d8f0-a4f9f5c3de84"
      },
      "execution_count": 10,
      "outputs": [
        {
          "output_type": "execute_result",
          "data": {
            "text/plain": [
              "[{'_id': ObjectId('624c23b1a566f757b3122a0e'),\n",
              "  'body': 'laudantium enim quasi est quidem magnam voluptate ipsam eos\\ntempora quo necessitatibus\\ndolor quam autem quasi\\nreiciendis et nam sapiente accusantium',\n",
              "  'email': 'Eliseo@gardner.biz',\n",
              "  'id': 1,\n",
              "  'name': 'id labore ex et quam laborum',\n",
              "  'postId': 1},\n",
              " {'_id': ObjectId('624c23b1a566f757b3122a0f'),\n",
              "  'body': 'est natus enim nihil est dolore omnis voluptatem numquam\\net omnis occaecati quod ullam at\\nvoluptatem error expedita pariatur\\nnihil sint nostrum voluptatem reiciendis et',\n",
              "  'email': 'Jayne_Kuhic@sydney.com',\n",
              "  'id': 2,\n",
              "  'name': 'quo vero reiciendis velit similique earum',\n",
              "  'postId': 1},\n",
              " {'_id': ObjectId('624c23b1a566f757b3122a10'),\n",
              "  'body': 'quia molestiae reprehenderit quasi aspernatur\\naut expedita occaecati aliquam eveniet laudantium\\nomnis quibusdam delectus saepe quia accusamus maiores nam est\\ncum et ducimus et vero voluptates excepturi deleniti ratione',\n",
              "  'email': 'Nikita@garfield.biz',\n",
              "  'id': 3,\n",
              "  'name': 'odio adipisci rerum aut animi',\n",
              "  'postId': 1},\n",
              " {'_id': ObjectId('624c23b1a566f757b3122a11'),\n",
              "  'body': 'non et atque\\noccaecati deserunt quas accusantium unde odit nobis qui voluptatem\\nquia voluptas consequuntur itaque dolor\\net qui rerum deleniti ut occaecati',\n",
              "  'email': 'Lew@alysha.tv',\n",
              "  'id': 4,\n",
              "  'name': 'alias odio sit',\n",
              "  'postId': 1},\n",
              " {'_id': ObjectId('624c23b1a566f757b3122a12'),\n",
              "  'body': 'harum non quasi et ratione\\ntempore iure ex voluptates in ratione\\nharum architecto fugit inventore cupiditate\\nvoluptates magni quo et',\n",
              "  'email': 'Hayden@althea.biz',\n",
              "  'id': 5,\n",
              "  'name': 'vero eaque aliquid doloribus et culpa',\n",
              "  'postId': 1}]"
            ]
          },
          "metadata": {},
          "execution_count": 10
        }
      ]
    },
    {
      "cell_type": "code",
      "source": [
        ""
      ],
      "metadata": {
        "id": "8Q66p1iVa2uu"
      },
      "execution_count": null,
      "outputs": []
    }
  ]
}
